{
  "nbformat": 4,
  "nbformat_minor": 0,
  "metadata": {
    "colab": {
      "name": "pre_processing.ipynb",
      "provenance": [],
      "collapsed_sections": [],
      "include_colab_link": true
    },
    "kernelspec": {
      "name": "python3",
      "display_name": "Python 3"
    },
    "language_info": {
      "name": "python"
    }
  },
  "cells": [
    {
      "cell_type": "markdown",
      "metadata": {
        "id": "view-in-github",
        "colab_type": "text"
      },
      "source": [
        "<a href=\"https://colab.research.google.com/github/letessarini/search_code/blob/main/pre_processing.ipynb\" target=\"_parent\"><img src=\"https://colab.research.google.com/assets/colab-badge.svg\" alt=\"Open In Colab\"/></a>"
      ]
    },
    {
      "cell_type": "markdown",
      "source": [
        "# Pre processing"
      ],
      "metadata": {
        "id": "vHj3SW0kPqya"
      }
    },
    {
      "cell_type": "markdown",
      "source": [
        "Audio data pre-processing algorithm for deep learning.\n",
        "\n",
        "This file has the waveform and the \"wav\" file extraction.\n",
        "\n",
        "The Fourier transform, as a graph as a function of frequency, and the MFCC spectrogram will be used as an input to the network."
      ],
      "metadata": {
        "id": "YDlgkREXPx9D"
      }
    },
    {
      "cell_type": "markdown",
      "metadata": {
        "id": "1t4NDVQmDq2l"
      },
      "source": [
        "# 1. Import the libraries"
      ]
    },
    {
      "cell_type": "markdown",
      "metadata": {
        "id": "JRmUDwrmErwI"
      },
      "source": [
        "\n",
        "*   The librosa library is for audio analysis\n",
        "*   The *librosa.display* extension is for visualizing the data as spectrograms which is built on top of the *matplotlib* library\n",
        "*   Numpy for FFT application\n",
        "\n",
        "\n",
        "\n",
        "\n",
        "\n",
        "\n",
        "\n",
        "\n",
        "\n",
        "\n",
        "\n",
        "\n",
        "\n"
      ]
    },
    {
      "cell_type": "code",
      "source": [
        "from google.colab import drive\n",
        "drive.mount('/content/drive')"
      ],
      "metadata": {
        "colab": {
          "base_uri": "https://localhost:8080/"
        },
        "id": "BN37Ba8oYaR5",
        "outputId": "c907de6a-f9e0-47dd-85eb-4ff934c39f5b"
      },
      "execution_count": null,
      "outputs": [
        {
          "output_type": "stream",
          "name": "stdout",
          "text": [
            "Mounted at /content/drive\n"
          ]
        }
      ]
    },
    {
      "cell_type": "code",
      "metadata": {
        "id": "gGt_W10yD4c8"
      },
      "source": [
        "import librosa, librosa.display\n",
        "import matplotlib.pyplot as plt\n",
        "import numpy as np"
      ],
      "execution_count": null,
      "outputs": []
    },
    {
      "cell_type": "markdown",
      "metadata": {
        "id": "dlqQpLA-Fipa"
      },
      "source": [
        "# 2. Get an audio file and upload"
      ]
    },
    {
      "cell_type": "markdown",
      "metadata": {
        "id": "pf2_74gtG6cU"
      },
      "source": [
        "\n",
        "\n",
        "*   *file* is the audio folder path\n",
        "*   To load the audio, we get a signal and a sampling rate and the signal will be a numpy matrix and a dimensional matrix\n",
        "*   sr*T -> 44100 *3\n",
        "\n",
        "\n",
        "\n"
      ]
    },
    {
      "cell_type": "code",
      "metadata": {
        "colab": {
          "base_uri": "https://localhost:8080/",
          "height": 187
        },
        "id": "CLGR-5CyFojC",
        "outputId": "1bc3e8d2-4283-4155-a45e-4e087b9ca237"
      },
      "source": [
        "file= \"/content/drive/MyDrive/audios/banco_de_dados/PET/pet_1.wav\"\n",
        "signal, sr = librosa.load(file, sr=44100)\n",
        "plt.subplots(figsize=(5, 2))\n",
        "#View the waveform\n",
        "librosa.display.waveplot(signal, sr=sr)\n",
        "plt.title(\"PETE\")\n",
        "plt.xlabel(\"Time (s)\")\n",
        "plt.ylabel(\"Amplitude\")\n",
        "plt.show()"
      ],
      "execution_count": null,
      "outputs": [
        {
          "output_type": "display_data",
          "data": {
            "text/plain": [
              "<Figure size 360x144 with 1 Axes>"
            ],
            "image/png": "[encoded data removed]"
          },
          "metadata": {
            "needs_background": "light"
          }
        }
      ]
    },
    {
      "cell_type": "markdown",
      "metadata": {
        "id": "JovEemSLI2CQ"
      },
      "source": [
        "# 3. FFT"
      ]
    },
    {
      "cell_type": "markdown",
      "metadata": {
        "id": "n0rEs5C7JVyR"
      },
      "source": [
        "\n",
        "\n",
        "*   fft -> numpy array unidimencional\n",
        "\n",
        "\n"
      ]
    },
    {
      "cell_type": "code",
      "metadata": {
        "colab": {
          "base_uri": "https://localhost:8080/",
          "height": 187
        },
        "id": "M7F0GUWQI7MH",
        "outputId": "129d1dc8-b9b7-444e-a4bf-1a7670482f4e"
      },
      "source": [
        "fft = np.fft.fft(signal)\n",
        "\n",
        "magnitude = np.abs(fft)\n",
        "frequency = np.linspace(0, sr, len(magnitude))\n",
        "#(sequence interval = 0Hz, sample rate (sr), number of evenly spaced values = the magnitude length)\n",
        "plt.subplots(figsize=(5, 2))\n",
        "\n",
        "plt.plot(frequency, magnitude)\n",
        "plt.title(\"PETE\")\n",
        "plt.xlabel(\"Frequency (kHz)\")\n",
        "plt.ylabel(\"Magnitude\")\n",
        "plt.show()"
      ],
      "execution_count": null,
      "outputs": [
        {
          "output_type": "display_data",
          "data": {
            "text/plain": [
              "<Figure size 360x144 with 1 Axes>"
            ],
            "image/png": "[encoded data removed]"
          },
          "metadata": {
            "needs_background": "light"
          }
        }
      ]
    },
    {
      "cell_type": "markdown",
      "metadata": {
        "id": "zvJJ875KkdEc"
      },
      "source": [
        "Most of the energy is concentrated in the lower frequencies. And the higher the frequency and the less power, the less contribution it has to the signal.\n",
        "\n",
        "The graph is symmetrical, a property of the Fourier Transform, given by Nyquist's theorem.\n",
        "\n",
        "It only needs the first half as the other half is repeating information.\n"
      ]
    },
    {
      "cell_type": "markdown",
      "metadata": {
        "id": "-j_9hVEyo9F2"
      },
      "source": [
        "*n_fft*: considerando realizar uma única STFT.\n",
        "\n",
        "*hop_lenght*: valores que está deslocando em cada transformada de Fourier para a direita, porque quando faz a transformada de Fourier de tempo curto desliza em intervalos e a cada intervalo calcula uma FFT e o salto do comprimento diz o quanto está deslizando para a direita.\n",
        "\n",
        "*specshow*: função que permite visualizar dados semelhantes a espectrogramas, como mapa de calor, eixo x, eixo e y e a cor um terceiro eixo.\n",
        "\n",
        "Pode-se perceber com o primeiro espectrograma que as frequencias tem amplitudes baixas, faznedo com que contribuem pouco para o som em geral. E em baixo pode obserar certas explosões semelhantes de energia nas frequencias mais baixas, que é o esperado em um espectro.\n",
        "\n",
        "Há uma maneira de suavizar essa amplitude e visualizar de forma mais agradável, que é um logaritmico, chamado de log espectrograma.\n",
        "\n",
        "*amplitude_to_db*: está pegando a amplitude do espectro original e convertendo para dB.\n",
        "\n"
      ]
    },
    {
      "cell_type": "markdown",
      "metadata": {
        "id": "JnzGQTYXtgdD"
      },
      "source": [
        "# 5. MFCC"
      ]
    },
    {
      "cell_type": "code",
      "metadata": {
        "colab": {
          "base_uri": "https://localhost:8080/",
          "height": 278
        },
        "id": "0-TGBrvhtlo9",
        "outputId": "51dcf208-5ff1-4aa4-b9a3-d88e0e902e7d"
      },
      "source": [
        "#Extract MFCC features\n",
        "MFCCs = librosa.feature.mfcc(signal, n_fft=2048, hop_length=512, n_mfcc=13)\n",
        "\n",
        "#Plot the MFCC spectrogram\n",
        "librosa.display.specshow(MFCCs, sr=sr, hop_length=512)\n",
        "plt.title(\"PETE\")\n",
        "plt.xlabel(\"Time (s)\")\n",
        "plt.ylabel(\"MFCC\")\n",
        "plt.colorbar()\n",
        "plt.show()"
      ],
      "execution_count": null,
      "outputs": [
        {
          "output_type": "display_data",
          "data": {
            "text/plain": [
              "<Figure size 432x288 with 2 Axes>"
            ],
            "image/png": "[encoded data removed]"
          },
          "metadata": {
            "needs_background": "light"
          }
        }
      ]
    },
    {
      "cell_type": "markdown",
      "source": [
        "n_fft: considering performing a single STFT.\n",
        "\n",
        "hop_length: values it is shifting in each Fourier transform to the right because when it does the short time, Fourier transforms it slides in intervals, and at each interval, it calculates an FFT, and the length jump tells how much it is sliding to the right.\n",
        "\n",
        "n_mfcc: number of mfcc - number of coefficients to extract.\n",
        "13 is a fair number and is commonly used in the technique\n",
        "\n",
        "To perform the MFCC, you need to calculate the Short Time Fourier Transform (STFT).\n",
        "\n",
        "On the y-axis, you can see the intervals; on the x-axis, you have the time to see how the different MFCCs evolve and it's stable."
      ],
      "metadata": {
        "id": "T7WRZM884CGm"
      }
    }
  ]
}